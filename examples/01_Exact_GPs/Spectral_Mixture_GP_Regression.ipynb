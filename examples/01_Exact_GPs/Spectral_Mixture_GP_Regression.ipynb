{
  "nbformat": 4,
  "nbformat_minor": 0,
  "metadata": {
    "anaconda-cloud": {},
    "kernelspec": {
      "display_name": "Python 3",
      "language": "python",
      "name": "python3"
    },
    "language_info": {
      "codemirror_mode": {
        "name": "ipython",
        "version": 3
      },
      "file_extension": ".py",
      "mimetype": "text/x-python",
      "name": "python",
      "nbconvert_exporter": "python",
      "pygments_lexer": "ipython3",
      "version": "3.7.0"
    },
    "colab": {
      "name": "Spectral_Mixture_GP_Regression.ipynb",
      "provenance": []
    }
  },
  "cells": [
    {
      "cell_type": "markdown",
      "metadata": {
        "id": "vo_vqEM7X1xh",
        "colab_type": "text"
      },
      "source": [
        "# GP Regression with a Spectral Mixture Kernel\n",
        "\n",
        "<a href=\"https://colab.research.google.com/github/jwangjie/gpytorch/blob/master/examples/01_Exact_GPs/Spectral_Mixture_GP_Regression.ipynb\" target=\"_parent\"><img src=\"https://colab.research.google.com/assets/colab-badge.svg\" alt=\"Open In Colab\"/></a>\n",
        "\n",
        "## Introduction\n",
        "\n",
        "This example shows how to use a `SpectralMixtureKernel` module on an `ExactGP` model. This module is designed for\n",
        "\n",
        "- When you want to use exact inference (e.g. for regression)\n",
        "- When you want to use a more sophisticated kernel than RBF\n",
        "\n",
        "The Spectral Mixture (SM) kernel was invented and discussed in [Wilson et al., 2013](https://arxiv.org/pdf/1302.4245.pdf)."
      ]
    },
    {
      "cell_type": "code",
      "metadata": {
        "id": "nKUj1FhJX-J8",
        "colab_type": "code",
        "colab": {
          "base_uri": "https://localhost:8080/",
          "height": 185
        },
        "outputId": "671c20de-c46b-474b-e169-d1d866a098c7"
      },
      "source": [
        "!pip3 install gpytorch"
      ],
      "execution_count": 1,
      "outputs": [
        {
          "output_type": "stream",
          "text": [
            "Collecting gpytorch\n",
            "\u001b[?25l  Downloading https://files.pythonhosted.org/packages/9c/5f/ce79e35c1a36deb25a0eac0f67bfe85fb8350eb8e19223950c3d615e5e9a/gpytorch-1.0.1.tar.gz (229kB)\n",
            "\r\u001b[K     |█▍                              | 10kB 18.2MB/s eta 0:00:01\r\u001b[K     |██▉                             | 20kB 2.2MB/s eta 0:00:01\r\u001b[K     |████▎                           | 30kB 2.8MB/s eta 0:00:01\r\u001b[K     |█████▊                          | 40kB 2.1MB/s eta 0:00:01\r\u001b[K     |███████▏                        | 51kB 2.3MB/s eta 0:00:01\r\u001b[K     |████████▋                       | 61kB 2.7MB/s eta 0:00:01\r\u001b[K     |██████████                      | 71kB 2.9MB/s eta 0:00:01\r\u001b[K     |███████████▍                    | 81kB 3.2MB/s eta 0:00:01\r\u001b[K     |████████████▉                   | 92kB 3.6MB/s eta 0:00:01\r\u001b[K     |██████████████▎                 | 102kB 3.4MB/s eta 0:00:01\r\u001b[K     |███████████████▊                | 112kB 3.4MB/s eta 0:00:01\r\u001b[K     |█████████████████▏              | 122kB 3.4MB/s eta 0:00:01\r\u001b[K     |██████████████████▌             | 133kB 3.4MB/s eta 0:00:01\r\u001b[K     |████████████████████            | 143kB 3.4MB/s eta 0:00:01\r\u001b[K     |█████████████████████▍          | 153kB 3.4MB/s eta 0:00:01\r\u001b[K     |██████████████████████▉         | 163kB 3.4MB/s eta 0:00:01\r\u001b[K     |████████████████████████▎       | 174kB 3.4MB/s eta 0:00:01\r\u001b[K     |█████████████████████████▊      | 184kB 3.4MB/s eta 0:00:01\r\u001b[K     |███████████████████████████▏    | 194kB 3.4MB/s eta 0:00:01\r\u001b[K     |████████████████████████████▌   | 204kB 3.4MB/s eta 0:00:01\r\u001b[K     |██████████████████████████████  | 215kB 3.4MB/s eta 0:00:01\r\u001b[K     |███████████████████████████████▍| 225kB 3.4MB/s eta 0:00:01\r\u001b[K     |████████████████████████████████| 235kB 3.4MB/s \n",
            "\u001b[?25hBuilding wheels for collected packages: gpytorch\n",
            "  Building wheel for gpytorch (setup.py) ... \u001b[?25l\u001b[?25hdone\n",
            "  Created wheel for gpytorch: filename=gpytorch-1.0.1-py2.py3-none-any.whl size=390441 sha256=a2841f6ea56250cb7fe5bfde8ed447101b55d1a4e4e93aba231b109eb0ce3eba\n",
            "  Stored in directory: /root/.cache/pip/wheels/10/2f/7a/3328e5713d796daeec2ce8ded141d5f3837253fc3c2a5c62e0\n",
            "Successfully built gpytorch\n",
            "Installing collected packages: gpytorch\n",
            "Successfully installed gpytorch-1.0.1\n"
          ],
          "name": "stdout"
        }
      ]
    },
    {
      "cell_type": "code",
      "metadata": {
        "id": "QPN83_CZX1xl",
        "colab_type": "code",
        "colab": {}
      },
      "source": [
        "import math\n",
        "import torch\n",
        "import gpytorch\n",
        "from matplotlib import pyplot as plt\n",
        "\n",
        "%matplotlib inline\n",
        "%load_ext autoreload\n",
        "%autoreload 2"
      ],
      "execution_count": 0,
      "outputs": []
    },
    {
      "cell_type": "markdown",
      "metadata": {
        "id": "9RcWSUb7X1xu",
        "colab_type": "text"
      },
      "source": [
        "In the next cell, we set up the training data for this example. We'll be using 15 regularly spaced points on [0,1] which we evaluate the function on and add Gaussian noise to get the training labels."
      ]
    },
    {
      "cell_type": "code",
      "metadata": {
        "id": "cuaPT931X1xw",
        "colab_type": "code",
        "colab": {}
      },
      "source": [
        "train_x = torch.linspace(0, 1, 15)\n",
        "train_y = torch.sin(train_x * (2 * math.pi))"
      ],
      "execution_count": 0,
      "outputs": []
    },
    {
      "cell_type": "markdown",
      "metadata": {
        "id": "O45ug-iLX1x3",
        "colab_type": "text"
      },
      "source": [
        "## Set up the model\n",
        "\n",
        "The model should be very similar to the `ExactGP` model in the [simple regression example](./Simple_GP_Regression.ipynb).\n",
        "\n",
        "The only difference is here, we're using a more complex kernel (the `SpectralMixtureKernel`). This kernel requires careful initialization to work properly. To that end, in the model `__init__` function, we call\n",
        "\n",
        "```\n",
        "self.covar_module = gpytorch.kernels.SpectralMixtureKernel(n_mixtures=4)\n",
        "self.covar_module.initialize_from_data(train_x, train_y)\n",
        "```\n",
        "\n",
        "This ensures that, when we perform optimization to learn kernel hyperparameters, we will be starting from a reasonable initialization."
      ]
    },
    {
      "cell_type": "code",
      "metadata": {
        "id": "sh-_t9l0X1x4",
        "colab_type": "code",
        "colab": {}
      },
      "source": [
        "class SpectralMixtureGPModel(gpytorch.models.ExactGP):\n",
        "    def __init__(self, train_x, train_y, likelihood):\n",
        "        super(SpectralMixtureGPModel, self).__init__(train_x, train_y, likelihood)\n",
        "        self.mean_module = gpytorch.means.ConstantMean()\n",
        "        \n",
        "        self.covar_module = gpytorch.kernels.SpectralMixtureKernel(num_mixtures=4)\n",
        "        self.covar_module.initialize_from_data(train_x, train_y)\n",
        "\n",
        "    def forward(self,x):\n",
        "        mean_x = self.mean_module(x)\n",
        "        covar_x = self.covar_module(x)\n",
        "        return gpytorch.distributions.MultivariateNormal(mean_x, covar_x)\n",
        "\n",
        "    \n",
        "likelihood = gpytorch.likelihoods.GaussianLikelihood()\n",
        "model = SpectralMixtureGPModel(train_x, train_y, likelihood)"
      ],
      "execution_count": 0,
      "outputs": []
    },
    {
      "cell_type": "markdown",
      "metadata": {
        "id": "DUzWzqXBX1x7",
        "colab_type": "text"
      },
      "source": [
        "In the next cell, we handle using Type-II MLE to train the hyperparameters of the Gaussian process.\n",
        "The spectral mixture kernel's hyperparameters start from what was specified in `initialize_from_data`.\n",
        "\n",
        "See the [simple regression example](./Simple_GP_Regression.ipynb) for more info on this step."
      ]
    },
    {
      "cell_type": "code",
      "metadata": {
        "scrolled": false,
        "id": "_xsOSDlAX1x8",
        "colab_type": "code",
        "colab": {
          "base_uri": "https://localhost:8080/",
          "height": 1000
        },
        "outputId": "8c4368d5-c61d-44a8-fe56-1a383a2838aa"
      },
      "source": [
        "# Find optimal model hyperparameters\n",
        "model.train()\n",
        "likelihood.train()\n",
        "\n",
        "# Use the adam optimizer\n",
        "optimizer = torch.optim.Adam(model.parameters(), lr=0.1)\n",
        "\n",
        "# \"Loss\" for GPs - the marginal log likelihood\n",
        "mll = gpytorch.mlls.ExactMarginalLogLikelihood(likelihood, model)\n",
        "\n",
        "training_iter = 100\n",
        "for i in range(training_iter):\n",
        "    optimizer.zero_grad()\n",
        "    output = model(train_x)\n",
        "    loss = -mll(output, train_y)\n",
        "    loss.backward()\n",
        "    print('Iter %d/%d - Loss: %.3f' % (i + 1, training_iter, loss.item()))\n",
        "    optimizer.step()"
      ],
      "execution_count": 5,
      "outputs": [
        {
          "output_type": "stream",
          "text": [
            "Iter 1/100 - Loss: 1.294\n",
            "Iter 2/100 - Loss: 1.266\n",
            "Iter 3/100 - Loss: 1.236\n",
            "Iter 4/100 - Loss: 1.206\n",
            "Iter 5/100 - Loss: 1.174\n",
            "Iter 6/100 - Loss: 1.145\n",
            "Iter 7/100 - Loss: 1.116\n",
            "Iter 8/100 - Loss: 1.088\n",
            "Iter 9/100 - Loss: 1.063\n",
            "Iter 10/100 - Loss: 1.040\n",
            "Iter 11/100 - Loss: 1.018\n",
            "Iter 12/100 - Loss: 0.996\n",
            "Iter 13/100 - Loss: 0.975\n",
            "Iter 14/100 - Loss: 0.951\n",
            "Iter 15/100 - Loss: 0.923\n",
            "Iter 16/100 - Loss: 0.890\n",
            "Iter 17/100 - Loss: 0.853\n",
            "Iter 18/100 - Loss: 0.811\n",
            "Iter 19/100 - Loss: 0.765\n",
            "Iter 20/100 - Loss: 0.716\n",
            "Iter 21/100 - Loss: 0.665\n",
            "Iter 22/100 - Loss: 0.613\n",
            "Iter 23/100 - Loss: 0.560\n",
            "Iter 24/100 - Loss: 0.507\n",
            "Iter 25/100 - Loss: 0.456\n",
            "Iter 26/100 - Loss: 0.408\n",
            "Iter 27/100 - Loss: 0.362\n",
            "Iter 28/100 - Loss: 0.319\n",
            "Iter 29/100 - Loss: 0.278\n",
            "Iter 30/100 - Loss: 0.237\n",
            "Iter 31/100 - Loss: 0.193\n",
            "Iter 32/100 - Loss: 0.146\n",
            "Iter 33/100 - Loss: 0.095\n",
            "Iter 34/100 - Loss: 0.043\n",
            "Iter 35/100 - Loss: -0.011\n",
            "Iter 36/100 - Loss: -0.064\n",
            "Iter 37/100 - Loss: -0.117\n",
            "Iter 38/100 - Loss: -0.172\n",
            "Iter 39/100 - Loss: -0.229\n",
            "Iter 40/100 - Loss: -0.289\n",
            "Iter 41/100 - Loss: -0.350\n",
            "Iter 42/100 - Loss: -0.410\n",
            "Iter 43/100 - Loss: -0.467\n",
            "Iter 44/100 - Loss: -0.519\n",
            "Iter 45/100 - Loss: -0.600\n",
            "Iter 46/100 - Loss: -0.670\n",
            "Iter 47/100 - Loss: -0.741\n",
            "Iter 48/100 - Loss: -0.784\n",
            "Iter 49/100 - Loss: -0.849\n",
            "Iter 50/100 - Loss: -0.920\n",
            "Iter 51/100 - Loss: -0.976\n",
            "Iter 52/100 - Loss: -1.031\n",
            "Iter 53/100 - Loss: -1.104\n",
            "Iter 54/100 - Loss: -1.135\n",
            "Iter 55/100 - Loss: -1.209\n",
            "Iter 56/100 - Loss: -1.275\n",
            "Iter 57/100 - Loss: -1.290\n",
            "Iter 58/100 - Loss: -1.324\n",
            "Iter 59/100 - Loss: -1.419\n",
            "Iter 60/100 - Loss: -1.445\n",
            "Iter 61/100 - Loss: -1.468\n",
            "Iter 62/100 - Loss: -1.554\n",
            "Iter 63/100 - Loss: -1.592\n",
            "Iter 64/100 - Loss: -1.596\n",
            "Iter 65/100 - Loss: -1.697\n",
            "Iter 66/100 - Loss: -1.730\n",
            "Iter 67/100 - Loss: -1.716\n",
            "Iter 68/100 - Loss: -1.819\n",
            "Iter 69/100 - Loss: -1.876\n",
            "Iter 70/100 - Loss: -1.819\n",
            "Iter 71/100 - Loss: -1.893\n",
            "Iter 72/100 - Loss: -2.026\n",
            "Iter 73/100 - Loss: -1.944\n",
            "Iter 74/100 - Loss: -1.920\n",
            "Iter 75/100 - Loss: -2.131\n",
            "Iter 76/100 - Loss: -2.103\n",
            "Iter 77/100 - Loss: -1.995\n",
            "Iter 78/100 - Loss: -2.172\n",
            "Iter 79/100 - Loss: -2.237\n",
            "Iter 80/100 - Loss: -2.149\n",
            "Iter 81/100 - Loss: -2.193\n",
            "Iter 82/100 - Loss: -2.296\n",
            "Iter 83/100 - Loss: -2.327\n",
            "Iter 84/100 - Loss: -2.291\n",
            "Iter 85/100 - Loss: -2.267\n",
            "Iter 86/100 - Loss: -2.343\n",
            "Iter 87/100 - Loss: -2.445\n",
            "Iter 88/100 - Loss: -2.428\n",
            "Iter 89/100 - Loss: -2.326\n",
            "Iter 90/100 - Loss: -2.269\n",
            "Iter 91/100 - Loss: -2.317\n",
            "Iter 92/100 - Loss: -2.484\n",
            "Iter 93/100 - Loss: -2.533\n",
            "Iter 94/100 - Loss: -2.442\n",
            "Iter 95/100 - Loss: -2.390\n",
            "Iter 96/100 - Loss: -2.462\n",
            "Iter 97/100 - Loss: -2.585\n",
            "Iter 98/100 - Loss: -2.575\n",
            "Iter 99/100 - Loss: -2.481\n",
            "Iter 100/100 - Loss: -2.468\n"
          ],
          "name": "stdout"
        }
      ]
    },
    {
      "cell_type": "markdown",
      "metadata": {
        "id": "sR53DD6oX1yI",
        "colab_type": "text"
      },
      "source": [
        "Now that we've learned good hyperparameters, it's time to use our model to make predictions. The spectral mixture kernel is especially good at extrapolation. To that end, we'll see how well the model extrapolates past the interval `[0, 1]`.\n",
        "\n",
        "In the next cell, we plot the mean and confidence region of the Gaussian process model. The `confidence_region` method is a helper method that returns 2 standard deviations above and below the mean."
      ]
    },
    {
      "cell_type": "code",
      "metadata": {
        "scrolled": false,
        "id": "vtqX6Pn4X1yJ",
        "colab_type": "code",
        "colab": {
          "base_uri": "https://localhost:8080/",
          "height": 215
        },
        "outputId": "dd2019e4-a9dd-4117-aa48-2b6cd1e42c6a"
      },
      "source": [
        "# Test points every 0.1 between 0 and 5\n",
        "test_x = torch.linspace(0, 5, 51)\n",
        "\n",
        "# Get into evaluation (predictive posterior) mode\n",
        "model.eval()\n",
        "likelihood.eval()\n",
        "\n",
        "# The gpytorch.settings.fast_pred_var flag activates LOVE (for fast variances)\n",
        "# See https://arxiv.org/abs/1803.06058\n",
        "with torch.no_grad(), gpytorch.settings.fast_pred_var():\n",
        "    # Make predictions\n",
        "    observed_pred = likelihood(model(test_x))\n",
        "\n",
        "    # Initialize plot\n",
        "    f, ax = plt.subplots(1, 1, figsize=(4, 3))\n",
        "\n",
        "    # Get upper and lower confidence bounds\n",
        "    lower, upper = observed_pred.confidence_region()\n",
        "    # Plot training data as black stars\n",
        "    ax.plot(train_x.numpy(), train_y.numpy(), 'k*')\n",
        "    # Plot predictive means as blue line\n",
        "    ax.plot(test_x.numpy(), observed_pred.mean.numpy(), 'b')\n",
        "    # Shade between the lower and upper confidence bounds\n",
        "    ax.fill_between(test_x.numpy(), lower.numpy(), upper.numpy(), alpha=0.5)\n",
        "    ax.set_ylim([-3, 3])\n",
        "    ax.legend(['Observed Data', 'Mean', 'Confidence'])"
      ],
      "execution_count": 6,
      "outputs": [
        {
          "output_type": "display_data",
          "data": {
            "image/png": "[encoded data removed]",
            "text/plain": [
              "<Figure size 288x216 with 1 Axes>"
            ]
          },
          "metadata": {
            "tags": [],
            "needs_background": "light"
          }
        }
      ]
    },
    {
      "cell_type": "code",
      "metadata": {
        "id": "l0HI5iOGX1yQ",
        "colab_type": "code",
        "colab": {}
      },
      "source": [
        ""
      ],
      "execution_count": 0,
      "outputs": []
    }
  ]
}