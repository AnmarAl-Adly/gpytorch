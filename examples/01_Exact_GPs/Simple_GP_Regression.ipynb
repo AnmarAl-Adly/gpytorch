{
  "nbformat": 4,
  "nbformat_minor": 0,
  "metadata": {
    "anaconda-cloud": {},
    "kernelspec": {
      "display_name": "Python 3",
      "language": "python",
      "name": "python3"
    },
    "language_info": {
      "codemirror_mode": {
        "name": "ipython",
        "version": 3
      },
      "file_extension": ".py",
      "mimetype": "text/x-python",
      "name": "python",
      "nbconvert_exporter": "python",
      "pygments_lexer": "ipython3",
      "version": "3.7.3"
    },
    "colab": {
      "name": "Simple_GP_Regression.ipynb",
      "provenance": []
    }
  },
  "cells": [
    {
      "cell_type": "markdown",
      "metadata": {
        "id": "oH-9p-nlCM7J",
        "colab_type": "text"
      },
      "source": [
        "# GPyTorch Regression Tutorial\n",
        "\n",
        "<a href=\"https://colab.research.google.com/github/jwangjie/gpytorch/blob/master/examples/01_Exact_GPs/Simple_GP_Regression.ipynb\" target=\"_parent\"><img src=\"https://colab.research.google.com/assets/colab-badge.svg\" alt=\"Open In Colab\"/></a>\n",
        "\n",
        "## Introduction\n",
        "\n",
        "In this notebook, we demonstrate many of the design features of GPyTorch using the simplest example, training an RBF kernel Gaussian process on a simple function. We'll be modeling the function\n",
        "\n",
        "\\begin{align}\n",
        "y &= \\sin(2\\pi x) + \\epsilon \\\\\n",
        "  \\epsilon &\\sim \\mathcal{N}(0, 0.04) \n",
        "\\end{align}\n",
        "\n",
        "with 100 training examples, and testing on 51 test examples.\n",
        "\n",
        "**Note:** this notebook is not necessarily intended to teach the mathematical background of Gaussian processes, but rather how to train a simple one and make predictions in GPyTorch. For a mathematical treatment, Chapter 2 of Gaussian Processes for Machine Learning provides a very thorough introduction to GP regression (this entire text is highly recommended): http://www.gaussianprocess.org/gpml/chapters/RW2.pdf"
      ]
    },
    {
      "cell_type": "code",
      "metadata": {
        "id": "3NZkYMG9CSHY",
        "colab_type": "code",
        "outputId": "2e11f9d2-9938-45aa-9fcc-809a5bd83c1c",
        "colab": {
          "base_uri": "https://localhost:8080/",
          "height": 185
        }
      },
      "source": [
        "# COMMENT this if not used in colab\n",
        "!pip3 install gpytorch"
      ],
      "execution_count": 1,
      "outputs": [
        {
          "output_type": "stream",
          "text": [
            "Collecting gpytorch\n",
            "\u001b[?25l  Downloading https://files.pythonhosted.org/packages/9c/5f/ce79e35c1a36deb25a0eac0f67bfe85fb8350eb8e19223950c3d615e5e9a/gpytorch-1.0.1.tar.gz (229kB)\n",
            "\u001b[K     |████████████████████████████████| 235kB 2.8MB/s \n",
            "\u001b[?25hBuilding wheels for collected packages: gpytorch\n",
            "  Building wheel for gpytorch (setup.py) ... \u001b[?25l\u001b[?25hdone\n",
            "  Created wheel for gpytorch: filename=gpytorch-1.0.1-py2.py3-none-any.whl size=390441 sha256=4c1c86a4228d2a6b7a30cf734f9a1b61de06c54de6177c0c84e34ae7d7b02939\n",
            "  Stored in directory: /root/.cache/pip/wheels/10/2f/7a/3328e5713d796daeec2ce8ded141d5f3837253fc3c2a5c62e0\n",
            "Successfully built gpytorch\n",
            "Installing collected packages: gpytorch\n",
            "Successfully installed gpytorch-1.0.1\n"
          ],
          "name": "stdout"
        }
      ]
    },
    {
      "cell_type": "code",
      "metadata": {
        "id": "vRuTAmukCM7K",
        "colab_type": "code",
        "colab": {}
      },
      "source": [
        "import math\n",
        "import torch\n",
        "import gpytorch\n",
        "from matplotlib import pyplot as plt\n",
        "\n",
        "%matplotlib inline\n",
        "%load_ext autoreload\n",
        "%autoreload 2"
      ],
      "execution_count": 0,
      "outputs": []
    },
    {
      "cell_type": "markdown",
      "metadata": {
        "id": "jGJW4y7sCM7R",
        "colab_type": "text"
      },
      "source": [
        "### Set up training data\n",
        "\n",
        "In the next cell, we set up the training data for this example. We'll be using 100 regularly spaced points on [0,1] which we evaluate the function on and add Gaussian noise to get the training labels."
      ]
    },
    {
      "cell_type": "code",
      "metadata": {
        "id": "jvktWT4cCM7S",
        "colab_type": "code",
        "colab": {}
      },
      "source": [
        "# Training data is 100 points in [0,1] inclusive regularly spaced\n",
        "train_x = torch.linspace(0, 1, 100)\n",
        "# True function is sin(2*pi*x) with Gaussian noise\n",
        "train_y = torch.sin(train_x * (2 * math.pi)) + torch.randn(train_x.size()) * math.sqrt(0.04)"
      ],
      "execution_count": 0,
      "outputs": []
    },
    {
      "cell_type": "code",
      "metadata": {
        "id": "CVL7OOtDQq94",
        "colab_type": "code",
        "outputId": "92f32261-5a36-477e-b251-bf7309bd50f4",
        "colab": {
          "base_uri": "https://localhost:8080/",
          "height": 265
        }
      },
      "source": [
        "plt.plot(train_x.numpy(), train_y.numpy())\n",
        "plt.show()"
      ],
      "execution_count": 4,
      "outputs": [
        {
          "output_type": "display_data",
          "data": {
            "image/png": "[encoded data removed]",
            "text/plain": [
              "<Figure size 432x288 with 1 Axes>"
            ]
          },
          "metadata": {
            "tags": [],
            "needs_background": "light"
          }
        }
      ]
    },
    {
      "cell_type": "markdown",
      "metadata": {
        "id": "SFl2jcoMCM7X",
        "colab_type": "text"
      },
      "source": [
        "## Setting up the model\n",
        "\n",
        "The next cell demonstrates the most critical features of a user-defined Gaussian process model in GPyTorch. Building a GP model in GPyTorch is different in a number of ways.\n",
        "\n",
        "First in contrast to many existing GP packages, we do not provide full GP models for the user. Rather, we provide *the tools necessary to quickly construct one*. This is because we believe, analogous to building a neural network in standard PyTorch, it is important to have the flexibility to include whatever components are necessary. As can be seen in more complicated examples, this allows the user great flexibility in designing custom models.\n",
        "\n",
        "For most GP regression models, you will need to construct the following GPyTorch objects:\n",
        "\n",
        "1. A **GP Model** (`gpytorch.models.ExactGP`) -  This handles most of the inference.\n",
        "1. A **Likelihood** (`gpytorch.likelihoods.GaussianLikelihood`) - This is the most common likelihood used for GP regression.\n",
        "1. A **Mean** - This defines the prior mean of the GP.(If you don't know which mean to use, a `gpytorch.means.ConstantMean()` is a good place to start.)\n",
        "1. A **Kernel** - This defines the prior covariance of the GP.(If you don't know which kernel to use, a `gpytorch.kernels.ScaleKernel(gpytorch.kernels.RBFKernel())` is a good place to start).\n",
        "1. A **MultivariateNormal** Distribution (`gpytorch.distributions.MultivariateNormal`) - This is the object used to represent multivariate normal distributions.\n",
        "  \n",
        "  \n",
        "### The GP Model\n",
        "  \n",
        "The components of a user built (Exact, i.e. non-variational) GP model in GPyTorch are, broadly speaking:\n",
        "\n",
        "1. An `__init__` method that takes the training data and a likelihood, and constructs whatever objects are necessary for the model's `forward` method. This will most commonly include things like a mean module and a kernel module.\n",
        "\n",
        "2. A `forward` method that takes in some $n \\times d$ data `x` and returns a `MultivariateNormal` with the *prior* mean and covariance evaluated at `x`. In other words, we return the vector $\\mu(x)$ and the $n \\times n$ matrix $K_{xx}$ representing the prior mean and covariance matrix of the GP. \n",
        "\n",
        "This specification leaves a large amount of flexibility when defining a model. For example, to compose two kernels via addition, you can either add the kernel modules directly:\n",
        "\n",
        "```python\n",
        "self.covar_module = ScaleKernel(RBFKernel() + WhiteNoiseKernel())\n",
        "```\n",
        "\n",
        "Or you can add the outputs of the kernel in the forward method:\n",
        "\n",
        "```python\n",
        "covar_x = self.rbf_kernel_module(x) + self.white_noise_module(x)\n",
        "```"
      ]
    },
    {
      "cell_type": "code",
      "metadata": {
        "id": "gWqLQMrxCM7Y",
        "colab_type": "code",
        "colab": {}
      },
      "source": [
        "# We will use the simplest form of GP model, exact inference\n",
        "class ExactGPModel(gpytorch.models.ExactGP):\n",
        "    def __init__(self, train_x, train_y, likelihood):\n",
        "        super(ExactGPModel, self).__init__(train_x, train_y, likelihood)\n",
        "        self.mean_module = gpytorch.means.ConstantMean()\n",
        "        self.covar_module = gpytorch.kernels.ScaleKernel(gpytorch.kernels.RBFKernel())\n",
        "    \n",
        "    def forward(self, x):\n",
        "        mean_x = self.mean_module(x)\n",
        "        covar_x = self.covar_module(x)\n",
        "        return gpytorch.distributions.MultivariateNormal(mean_x, covar_x)\n",
        "\n",
        "# initialize likelihood and model\n",
        "likelihood = gpytorch.likelihoods.GaussianLikelihood()\n",
        "model = ExactGPModel(train_x, train_y, likelihood)"
      ],
      "execution_count": 0,
      "outputs": []
    },
    {
      "cell_type": "markdown",
      "metadata": {
        "id": "fGNzFkFgr95H",
        "colab_type": "text"
      },
      "source": [
        "### Plot before optimizing the hyperparamters\n",
        "\n",
        "Let's take a look at the model parameters. More information is <a href=\"https://colab.research.google.com/github/jwangjie/gpytorch/blob/master/examples/00_Basic_Usage/Hyperparameters.ipynb\">here</a>."
      ]
    },
    {
      "cell_type": "code",
      "metadata": {
        "id": "Kk2WBgZere5m",
        "colab_type": "code",
        "outputId": "ae1d5331-5cb5-4da7-854d-b536a73b871d",
        "colab": {
          "base_uri": "https://localhost:8080/",
          "height": 84
        }
      },
      "source": [
        "model.state_dict()"
      ],
      "execution_count": 6,
      "outputs": [
        {
          "output_type": "execute_result",
          "data": {
            "text/plain": [
              "OrderedDict([('likelihood.noise_covar.raw_noise', tensor([0.])),\n",
              "             ('mean_module.constant', tensor([0.])),\n",
              "             ('covar_module.raw_outputscale', tensor(0.)),\n",
              "             ('covar_module.base_kernel.raw_lengthscale', tensor([[0.]]))])"
            ]
          },
          "metadata": {
            "tags": []
          },
          "execution_count": 6
        }
      ]
    },
    {
      "cell_type": "markdown",
      "metadata": {
        "id": "M5E_p1R8sNYI",
        "colab_type": "text"
      },
      "source": [
        "Goes to run [Make predictions with the model](https://colab.research.google.com/github/jwangjie/gpytorch/blob/master/examples/01_Exact_GPs/Simple_GP_Regression.ipynb#scrollTo=S1gMlb1TCM7i), and then run `Plot the model fit`. "
      ]
    },
    {
      "cell_type": "code",
      "metadata": {
        "id": "7h-14WOcpdge",
        "colab_type": "code",
        "colab": {
          "base_uri": "https://localhost:8080/",
          "height": 378
        },
        "outputId": "dbbe5d83-5bd7-44f1-ca1f-9dfd29241e87"
      },
      "source": [
        "# Get into evaluation (predictive posterior) mode\n",
        "model.eval()\n",
        "likelihood.eval()\n",
        "\n",
        "# Test points are regularly spaced along [0,1]\n",
        "# Make predictions by feeding model through likelihood\n",
        "with torch.no_grad(), gpytorch.settings.fast_pred_var():\n",
        "    test_x = torch.linspace(0, 1, 51)\n",
        "    observed_pred = likelihood(model(test_x))\n",
        "\n",
        "with torch.no_grad():\n",
        "    # Initialize plot\n",
        "    f, ax = plt.subplots(1, 1, figsize=(8, 6))\n",
        "\n",
        "    # Get upper and lower confidence bounds\n",
        "    lower, upper = observed_pred.confidence_region()\n",
        "    # Plot training data as black stars\n",
        "    ax.plot(train_x.numpy(), train_y.numpy(), 'k*')\n",
        "    # Plot predictive means as blue line\n",
        "    ax.plot(test_x.numpy(), observed_pred.mean.numpy(), 'r')\n",
        "    # Shade between the lower and upper confidence bounds\n",
        "    ax.fill_between(test_x.numpy(), lower.numpy(), upper.numpy(), alpha=0.3)\n",
        "    ax.set_ylim([-3, 3])\n",
        "    ax.legend(['Observed Data', 'Mean', 'Confidence'])"
      ],
      "execution_count": 7,
      "outputs": [
        {
          "output_type": "display_data",
          "data": {
            "image/png": "[encoded data removed]",
            "text/plain": [
              "<Figure size 576x432 with 1 Axes>"
            ]
          },
          "metadata": {
            "tags": [],
            "needs_background": "light"
          }
        }
      ]
    },
    {
      "cell_type": "markdown",
      "metadata": {
        "id": "bdnWsAh1CM7c",
        "colab_type": "text"
      },
      "source": [
        "### Model modes\n",
        "\n",
        "Like most PyTorch modules, the `ExactGP` has a `.train()` and `.eval()` mode.\n",
        "- `.train()` mode is for optimizing model hyperameters.\n",
        "- `.eval()` mode is for computing predictions through the model posterior."
      ]
    },
    {
      "cell_type": "markdown",
      "metadata": {
        "id": "FkClX5a7CM7d",
        "colab_type": "text"
      },
      "source": [
        "## Training the model\n",
        "\n",
        "In the next cell, we handle using Type-II MLE to train the hyperparameters of the Gaussian process.\n",
        "\n",
        "The most obvious difference here compared to many other GP implementations is that, as in standard PyTorch, the core training loop is written by the user. In GPyTorch, we make use of the standard PyTorch optimizers as from `torch.optim`, and all trainable parameters of the model should be of type `torch.nn.Parameter`. Because GP models directly extend `torch.nn.Module`, calls to methods like `model.parameters()` or `model.named_parameters()` function as you might expect coming from PyTorch.\n",
        "\n",
        "In most cases, the boilerplate code below will work well. It has the same basic components as the standard PyTorch training loop:\n",
        "\n",
        "1. Zero all parameter gradients\n",
        "2. Call the model and compute the loss\n",
        "3. Call backward on the loss to fill in gradients\n",
        "4. Take a step on the optimizer\n",
        "\n",
        "However, defining custom training loops allows for greater flexibility. For example, it is easy to save the parameters at each step of training, or use different learning rates for different parameters (which may be useful in deep kernel learning for example)."
      ]
    },
    {
      "cell_type": "code",
      "metadata": {
        "scrolled": false,
        "id": "fY58dyAYCM7e",
        "colab_type": "code",
        "outputId": "d512bf45-3911-47e1-e2ab-b4a8157395a3",
        "colab": {
          "base_uri": "https://localhost:8080/",
          "height": 857
        }
      },
      "source": [
        "# this is for running the notebook in our testing framework\n",
        "import os\n",
        "smoke_test = ('CI' in os.environ)\n",
        "training_iter = 2 if smoke_test else 50\n",
        "\n",
        "\n",
        "# Find optimal model hyperparameters\n",
        "model.train()\n",
        "likelihood.train()\n",
        "\n",
        "# Use the adam optimizer\n",
        "optimizer = torch.optim.Adam([\n",
        "    {'params': model.parameters()},  # Includes GaussianLikelihood parameters\n",
        "], lr=0.1)\n",
        "\n",
        "# \"Loss\" for GPs - the marginal log likelihood\n",
        "mll = gpytorch.mlls.ExactMarginalLogLikelihood(likelihood, model)\n",
        "\n",
        "for i in range(training_iter):\n",
        "    # Zero gradients from previous iteration\n",
        "    optimizer.zero_grad()\n",
        "    # Output from model\n",
        "    output = model(train_x)\n",
        "    # Calc loss and backprop gradients\n",
        "    loss = -mll(output, train_y)\n",
        "    loss.backward()\n",
        "    print('Iter %d/%d - Loss: %.3f   lengthscale: %.3f   noise: %.3f' % (\n",
        "        i + 1, training_iter, loss.item(),\n",
        "        model.covar_module.base_kernel.lengthscale.item(),\n",
        "        model.likelihood.noise.item()\n",
        "    ))\n",
        "    optimizer.step()"
      ],
      "execution_count": 8,
      "outputs": [
        {
          "output_type": "stream",
          "text": [
            "Iter 1/50 - Loss: 0.906   lengthscale: 0.693   noise: 0.693\n",
            "Iter 2/50 - Loss: 0.873   lengthscale: 0.644   noise: 0.644\n",
            "Iter 3/50 - Loss: 0.839   lengthscale: 0.598   noise: 0.598\n",
            "Iter 4/50 - Loss: 0.802   lengthscale: 0.554   noise: 0.554\n",
            "Iter 5/50 - Loss: 0.762   lengthscale: 0.513   noise: 0.513\n",
            "Iter 6/50 - Loss: 0.717   lengthscale: 0.475   noise: 0.474\n",
            "Iter 7/50 - Loss: 0.671   lengthscale: 0.438   noise: 0.437\n",
            "Iter 8/50 - Loss: 0.624   lengthscale: 0.404   noise: 0.402\n",
            "Iter 9/50 - Loss: 0.579   lengthscale: 0.371   noise: 0.370\n",
            "Iter 10/50 - Loss: 0.537   lengthscale: 0.341   noise: 0.339\n",
            "Iter 11/50 - Loss: 0.498   lengthscale: 0.315   noise: 0.311\n",
            "Iter 12/50 - Loss: 0.462   lengthscale: 0.292   noise: 0.284\n",
            "Iter 13/50 - Loss: 0.427   lengthscale: 0.273   noise: 0.260\n",
            "Iter 14/50 - Loss: 0.393   lengthscale: 0.258   noise: 0.237\n",
            "Iter 15/50 - Loss: 0.359   lengthscale: 0.247   noise: 0.216\n",
            "Iter 16/50 - Loss: 0.325   lengthscale: 0.238   noise: 0.197\n",
            "Iter 17/50 - Loss: 0.291   lengthscale: 0.233   noise: 0.180\n",
            "Iter 18/50 - Loss: 0.257   lengthscale: 0.229   noise: 0.163\n",
            "Iter 19/50 - Loss: 0.223   lengthscale: 0.228   noise: 0.149\n",
            "Iter 20/50 - Loss: 0.190   lengthscale: 0.229   noise: 0.135\n",
            "Iter 21/50 - Loss: 0.157   lengthscale: 0.232   noise: 0.123\n",
            "Iter 22/50 - Loss: 0.126   lengthscale: 0.236   noise: 0.112\n",
            "Iter 23/50 - Loss: 0.096   lengthscale: 0.241   noise: 0.102\n",
            "Iter 24/50 - Loss: 0.067   lengthscale: 0.248   noise: 0.093\n",
            "Iter 25/50 - Loss: 0.040   lengthscale: 0.256   noise: 0.084\n",
            "Iter 26/50 - Loss: 0.016   lengthscale: 0.264   noise: 0.077\n",
            "Iter 27/50 - Loss: -0.005   lengthscale: 0.274   noise: 0.070\n",
            "Iter 28/50 - Loss: -0.024   lengthscale: 0.283   noise: 0.064\n",
            "Iter 29/50 - Loss: -0.039   lengthscale: 0.292   noise: 0.059\n",
            "Iter 30/50 - Loss: -0.051   lengthscale: 0.300   noise: 0.054\n",
            "Iter 31/50 - Loss: -0.059   lengthscale: 0.307   noise: 0.050\n",
            "Iter 32/50 - Loss: -0.065   lengthscale: 0.311   noise: 0.046\n",
            "Iter 33/50 - Loss: -0.069   lengthscale: 0.312   noise: 0.043\n",
            "Iter 34/50 - Loss: -0.071   lengthscale: 0.310   noise: 0.040\n",
            "Iter 35/50 - Loss: -0.072   lengthscale: 0.306   noise: 0.038\n",
            "Iter 36/50 - Loss: -0.071   lengthscale: 0.300   noise: 0.036\n",
            "Iter 37/50 - Loss: -0.069   lengthscale: 0.293   noise: 0.034\n",
            "Iter 38/50 - Loss: -0.066   lengthscale: 0.285   noise: 0.033\n",
            "Iter 39/50 - Loss: -0.063   lengthscale: 0.278   noise: 0.032\n",
            "Iter 40/50 - Loss: -0.059   lengthscale: 0.271   noise: 0.031\n",
            "Iter 41/50 - Loss: -0.056   lengthscale: 0.265   noise: 0.030\n",
            "Iter 42/50 - Loss: -0.054   lengthscale: 0.260   noise: 0.030\n",
            "Iter 43/50 - Loss: -0.053   lengthscale: 0.256   noise: 0.029\n",
            "Iter 44/50 - Loss: -0.053   lengthscale: 0.253   noise: 0.029\n",
            "Iter 45/50 - Loss: -0.054   lengthscale: 0.251   noise: 0.030\n",
            "Iter 46/50 - Loss: -0.056   lengthscale: 0.250   noise: 0.030\n",
            "Iter 47/50 - Loss: -0.058   lengthscale: 0.250   noise: 0.031\n",
            "Iter 48/50 - Loss: -0.061   lengthscale: 0.251   noise: 0.031\n",
            "Iter 49/50 - Loss: -0.064   lengthscale: 0.252   noise: 0.032\n",
            "Iter 50/50 - Loss: -0.066   lengthscale: 0.253   noise: 0.033\n"
          ],
          "name": "stdout"
        }
      ]
    },
    {
      "cell_type": "code",
      "metadata": {
        "id": "RiDmqGItrRyz",
        "colab_type": "code",
        "outputId": "8eab6948-103f-4504-feda-95eea87f0649",
        "colab": {
          "base_uri": "https://localhost:8080/",
          "height": 101
        }
      },
      "source": [
        "model.state_dict()"
      ],
      "execution_count": 9,
      "outputs": [
        {
          "output_type": "execute_result",
          "data": {
            "text/plain": [
              "OrderedDict([('likelihood.noise_covar.raw_noise', tensor([-3.3824])),\n",
              "             ('mean_module.constant', tensor([0.0588])),\n",
              "             ('covar_module.raw_outputscale', tensor(-0.4108)),\n",
              "             ('covar_module.base_kernel.raw_lengthscale',\n",
              "              tensor([[-1.2372]]))])"
            ]
          },
          "metadata": {
            "tags": []
          },
          "execution_count": 9
        }
      ]
    },
    {
      "cell_type": "markdown",
      "metadata": {
        "id": "S1gMlb1TCM7i",
        "colab_type": "text"
      },
      "source": [
        "## Make predictions with the model\n",
        "\n",
        "In the next cell, we make predictions with the model. To do this, we simply put the model and likelihood in eval mode, and call both modules on the test data.\n",
        "\n",
        "Just as a user defined GP model returns a `MultivariateNormal` containing the prior mean and covariance from forward, a trained GP model in eval mode returns a `MultivariateNormal` containing the posterior mean and covariance. Thus, getting the predictive mean and variance, and then sampling functions from the GP at the given test points could be accomplished with calls like:\n",
        "\n",
        "```python\n",
        "f_preds = model(test_x)\n",
        "y_preds = likelihood(model(test_x))\n",
        "\n",
        "f_mean = f_preds.mean\n",
        "f_var = f_preds.variance\n",
        "f_covar = f_preds.covariance_matrix\n",
        "f_samples = f_preds.sample(sample_shape=torch.Size(1000,))\n",
        "```\n",
        "\n",
        "The `gpytorch.settings.fast_pred_var` context is not needed, but here we are giving a preview of using one of our cool features, getting faster predictive distributions using [LOVE](https://arxiv.org/abs/1803.06058)."
      ]
    },
    {
      "cell_type": "code",
      "metadata": {
        "id": "m-uGslvNCM7j",
        "colab_type": "code",
        "colab": {}
      },
      "source": [
        "# Get into evaluation (predictive posterior) mode\n",
        "model.eval()\n",
        "likelihood.eval()\n",
        "\n",
        "# Test points are regularly spaced along [0,1]\n",
        "# Make predictions by feeding model through likelihood\n",
        "with torch.no_grad(), gpytorch.settings.fast_pred_var():\n",
        "    test_x = torch.linspace(0, 1, 51)\n",
        "    observed_pred = likelihood(model(test_x))"
      ],
      "execution_count": 0,
      "outputs": []
    },
    {
      "cell_type": "markdown",
      "metadata": {
        "id": "yaRD80ENCM7m",
        "colab_type": "text"
      },
      "source": [
        "## Plot the model fit\n",
        "\n",
        "In the next cell, we plot the mean and confidence region of the Gaussian process model. The `confidence_region` method is a helper method that returns 2 standard deviations above and below the mean."
      ]
    },
    {
      "cell_type": "code",
      "metadata": {
        "scrolled": false,
        "id": "aC29j3yLCM7n",
        "colab_type": "code",
        "outputId": "bba21f81-310f-4f9a-b081-8a3d0e67e318",
        "colab": {
          "base_uri": "https://localhost:8080/",
          "height": 378
        }
      },
      "source": [
        "with torch.no_grad():\n",
        "    # Initialize plot\n",
        "    f, ax = plt.subplots(1, 1, figsize=(8, 6))\n",
        "\n",
        "    # Get upper and lower confidence bounds\n",
        "    lower, upper = observed_pred.confidence_region()\n",
        "    # Plot training data as black stars\n",
        "    ax.plot(train_x.numpy(), train_y.numpy(), 'k*')\n",
        "    # Plot predictive means as blue line\n",
        "    ax.plot(test_x.numpy(), observed_pred.mean.numpy(), 'r')\n",
        "    # Shade between the lower and upper confidence bounds\n",
        "    ax.fill_between(test_x.numpy(), lower.numpy(), upper.numpy(), alpha=0.3)\n",
        "    ax.set_ylim([-3, 3])\n",
        "    ax.legend(['Observed Data', 'Mean', 'Confidence'])"
      ],
      "execution_count": 11,
      "outputs": [
        {
          "output_type": "display_data",
          "data": {
            "image/png": "[encoded data removed]",
            "text/plain": [
              "<Figure size 576x432 with 1 Axes>"
            ]
          },
          "metadata": {
            "tags": [],
            "needs_background": "light"
          }
        }
      ]
    },
    {
      "cell_type": "code",
      "metadata": {
        "id": "_8GvDdbbCM7t",
        "colab_type": "code",
        "colab": {}
      },
      "source": [
        ""
      ],
      "execution_count": 0,
      "outputs": []
    }
  ]
}