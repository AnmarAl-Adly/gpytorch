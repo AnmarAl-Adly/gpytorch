{
  "nbformat": 4,
  "nbformat_minor": 0,
  "metadata": {
    "kernelspec": {
      "display_name": "Python 3",
      "language": "python",
      "name": "python3"
    },
    "language_info": {
      "codemirror_mode": {
        "name": "ipython",
        "version": 3
      },
      "file_extension": ".py",
      "mimetype": "text/x-python",
      "name": "python",
      "nbconvert_exporter": "python",
      "pygments_lexer": "ipython3",
      "version": "3.7.3"
    },
    "colab": {
      "name": "Saving_and_Loading_Models.ipynb",
      "provenance": []
    }
  },
  "cells": [
    {
      "cell_type": "markdown",
      "metadata": {
        "id": "Pf5OSuzxTqya",
        "colab_type": "text"
      },
      "source": [
        "# Saving and Loading Models\n",
        "\n",
        "<a href=\"https://colab.research.google.com/github/jwangjie/gpytorch/blob/master/examples/00_Basic_Usage/Saving_and_Loading_Models.ipynb\" target=\"_parent\"><img src=\"https://colab.research.google.com/assets/colab-badge.svg\" alt=\"Open In Colab\"/></a>\n",
        "\n",
        "In this bite-sized notebook, we'll go over how to save and load models. In general, the process is the same as for any PyTorch module."
      ]
    },
    {
      "cell_type": "code",
      "metadata": {
        "id": "p5ygkrvQX9vl",
        "colab_type": "code",
        "colab": {
          "base_uri": "https://localhost:8080/",
          "height": 34
        },
        "outputId": "b9cc61cb-1630-4e6b-b43b-02cede3dae5c"
      },
      "source": [
        "# COMMENT this if not used in colab\n",
        "!pip install gpytorch"
      ],
      "execution_count": 1,
      "outputs": [
        {
          "output_type": "stream",
          "text": [
            "Requirement already satisfied: gpytorch in /usr/local/lib/python3.6/dist-packages (1.0.1)\n"
          ],
          "name": "stdout"
        }
      ]
    },
    {
      "cell_type": "code",
      "metadata": {
        "id": "54THWHVHTqyc",
        "colab_type": "code",
        "colab": {}
      },
      "source": [
        "import math\n",
        "import torch\n",
        "import gpytorch\n",
        "from matplotlib import pyplot as plt"
      ],
      "execution_count": 0,
      "outputs": []
    },
    {
      "cell_type": "markdown",
      "metadata": {
        "id": "9WGFedjfTqyk",
        "colab_type": "text"
      },
      "source": [
        "## Saving a Simple Model\n",
        "\n",
        "First, we define a GP Model that we'd like to save. The model used below is the same as the model from our\n",
        "<a href=\"../01_Exact_GPs/Simple_GP_Regression.ipynb\">Simple GP Regression</a> tutorial."
      ]
    },
    {
      "cell_type": "code",
      "metadata": {
        "id": "oD8QGeLtTqyk",
        "colab_type": "code",
        "colab": {}
      },
      "source": [
        "train_x = torch.linspace(0, 1, 100)\n",
        "train_y = torch.sin(train_x * (2 * math.pi)) + torch.randn(train_x.size()) * 0.2"
      ],
      "execution_count": 0,
      "outputs": []
    },
    {
      "cell_type": "code",
      "metadata": {
        "id": "3GZL3wI1Tqyo",
        "colab_type": "code",
        "colab": {}
      },
      "source": [
        "# We will use the simplest form of GP model, exact inference\n",
        "class ExactGPModel(gpytorch.models.ExactGP):\n",
        "    def __init__(self, train_x, train_y, likelihood):\n",
        "        super(ExactGPModel, self).__init__(train_x, train_y, likelihood)\n",
        "        self.mean_module = gpytorch.means.ConstantMean()\n",
        "        self.covar_module = gpytorch.kernels.ScaleKernel(gpytorch.kernels.RBFKernel())\n",
        "    \n",
        "    def forward(self, x):\n",
        "        mean_x = self.mean_module(x)\n",
        "        covar_x = self.covar_module(x)\n",
        "        return gpytorch.distributions.MultivariateNormal(mean_x, covar_x)\n",
        "\n",
        "# initialize likelihood and model\n",
        "likelihood = gpytorch.likelihoods.GaussianLikelihood()\n",
        "model = ExactGPModel(train_x, train_y, likelihood)"
      ],
      "execution_count": 0,
      "outputs": []
    },
    {
      "cell_type": "markdown",
      "metadata": {
        "id": "zR7bhx98Tqyr",
        "colab_type": "text"
      },
      "source": [
        "### Change Model State\n",
        "\n",
        "To demonstrate model saving, we change the hyperparameters from the default values below. For more information on what is happening here, see our tutorial notebook on <a href=\"Hyperparameters.ipynb\">Initializing Hyperparameters</a>."
      ]
    },
    {
      "cell_type": "code",
      "metadata": {
        "id": "yp3Ye4WpTqys",
        "colab_type": "code",
        "colab": {}
      },
      "source": [
        "model.covar_module.outputscale = 1.2\n",
        "model.covar_module.base_kernel.lengthscale = 2.2"
      ],
      "execution_count": 0,
      "outputs": []
    },
    {
      "cell_type": "markdown",
      "metadata": {
        "id": "x3S-gOD6Tqyv",
        "colab_type": "text"
      },
      "source": [
        "### Getting Model State\n",
        "\n",
        "To get the full state of a GPyTorch model, simply call `state_dict` as you would on any PyTorch model. Note that the state dict contains **raw** parameter values. This is because these are the actual `torch.nn.Parameters` that are learned in GPyTorch. Again see our notebook on hyperparamters for more information on this."
      ]
    },
    {
      "cell_type": "code",
      "metadata": {
        "id": "LSv_j2pTTqyx",
        "colab_type": "code",
        "colab": {
          "base_uri": "https://localhost:8080/",
          "height": 84
        },
        "outputId": "e952e46c-c85a-4100-d970-bda3ff1eceb5"
      },
      "source": [
        "model.state_dict()"
      ],
      "execution_count": 6,
      "outputs": [
        {
          "output_type": "execute_result",
          "data": {
            "text/plain": [
              "OrderedDict([('likelihood.noise_covar.raw_noise', tensor([0.])),\n",
              "             ('mean_module.constant', tensor([0.])),\n",
              "             ('covar_module.raw_outputscale', tensor(0.8416)),\n",
              "             ('covar_module.base_kernel.raw_lengthscale', tensor([[2.0826]]))])"
            ]
          },
          "metadata": {
            "tags": []
          },
          "execution_count": 6
        }
      ]
    },
    {
      "cell_type": "markdown",
      "metadata": {
        "id": "vOgHILhcTqy6",
        "colab_type": "text"
      },
      "source": [
        "### Saving Model State\n",
        "\n",
        "The state dictionary above represents all traininable parameters for the model. Therefore, we can save this to a file as follows:"
      ]
    },
    {
      "cell_type": "code",
      "metadata": {
        "id": "Rf5hq8DiTqy8",
        "colab_type": "code",
        "colab": {}
      },
      "source": [
        "torch.save(model.state_dict(), 'model_state.pth')"
      ],
      "execution_count": 0,
      "outputs": []
    },
    {
      "cell_type": "markdown",
      "metadata": {
        "id": "WDoRw2VUTqzA",
        "colab_type": "text"
      },
      "source": [
        "### Loading Model State\n",
        "\n",
        "Next, we load this state in to a new model and demonstrate that the parameters were updated correctly."
      ]
    },
    {
      "cell_type": "code",
      "metadata": {
        "id": "RzSiXSmYTqzB",
        "colab_type": "code",
        "colab": {
          "base_uri": "https://localhost:8080/",
          "height": 34
        },
        "outputId": "17436b82-3f90-4d16-cac2-ff5546a6de59"
      },
      "source": [
        "state_dict = torch.load('model_state.pth')\n",
        "model = ExactGPModel(train_x, train_y, likelihood)  # Create a new GP model\n",
        "\n",
        "model.load_state_dict(state_dict)"
      ],
      "execution_count": 8,
      "outputs": [
        {
          "output_type": "execute_result",
          "data": {
            "text/plain": [
              "<All keys matched successfully>"
            ]
          },
          "metadata": {
            "tags": []
          },
          "execution_count": 8
        }
      ]
    },
    {
      "cell_type": "code",
      "metadata": {
        "id": "54OKd8CSTqzH",
        "colab_type": "code",
        "colab": {
          "base_uri": "https://localhost:8080/",
          "height": 84
        },
        "outputId": "d266b69f-0afc-40d6-856a-296b3df28df6"
      },
      "source": [
        "model.state_dict()"
      ],
      "execution_count": 9,
      "outputs": [
        {
          "output_type": "execute_result",
          "data": {
            "text/plain": [
              "OrderedDict([('likelihood.noise_covar.raw_noise', tensor([0.])),\n",
              "             ('mean_module.constant', tensor([0.])),\n",
              "             ('covar_module.raw_outputscale', tensor(0.8416)),\n",
              "             ('covar_module.base_kernel.raw_lengthscale', tensor([[2.0826]]))])"
            ]
          },
          "metadata": {
            "tags": []
          },
          "execution_count": 9
        }
      ]
    },
    {
      "cell_type": "markdown",
      "metadata": {
        "id": "A_JRxIuwTqzK",
        "colab_type": "text"
      },
      "source": [
        "## A More Complex Example\n",
        "\n",
        "Next we demonstrate this same principle on a more complex exact GP where we have a simple feed forward neural network feature extractor as part of the model.\n"
      ]
    },
    {
      "cell_type": "code",
      "metadata": {
        "id": "_Rtenwq-TqzL",
        "colab_type": "code",
        "colab": {}
      },
      "source": [
        "class GPWithNNFeatureExtractor(gpytorch.models.ExactGP):\n",
        "    def __init__(self, train_x, train_y, likelihood):\n",
        "        super(GPWithNNFeatureExtractor, self).__init__(train_x, train_y, likelihood)\n",
        "        self.mean_module = gpytorch.means.ConstantMean()\n",
        "        self.covar_module = gpytorch.kernels.ScaleKernel(gpytorch.kernels.RBFKernel())\n",
        "        \n",
        "        self.feature_extractor = torch.nn.Sequential(\n",
        "            torch.nn.Linear(1, 2),\n",
        "            torch.nn.BatchNorm1d(2),\n",
        "            torch.nn.ReLU(),\n",
        "            torch.nn.Linear(2, 2),\n",
        "            torch.nn.BatchNorm1d(2),\n",
        "            torch.nn.ReLU(),\n",
        "        )\n",
        "    \n",
        "    def forward(self, x):\n",
        "        x = self.feature_extractor(x)\n",
        "        mean_x = self.mean_module(x)\n",
        "        covar_x = self.covar_module(x)\n",
        "        return gpytorch.distributions.MultivariateNormal(mean_x, covar_x)\n",
        "\n",
        "# initialize likelihood and model\n",
        "likelihood = gpytorch.likelihoods.GaussianLikelihood()\n",
        "model = GPWithNNFeatureExtractor(train_x, train_y, likelihood)"
      ],
      "execution_count": 0,
      "outputs": []
    },
    {
      "cell_type": "markdown",
      "metadata": {
        "id": "MvCrloAhTqzO",
        "colab_type": "text"
      },
      "source": [
        "### Getting Model State\n",
        "\n",
        "In the next cell, we once again print the model state via `model.state_dict()`. As you can see, the state is substantially more complex, as the model now includes our neural network parameters. Nevertheless, saving and loading is straight forward."
      ]
    },
    {
      "cell_type": "code",
      "metadata": {
        "id": "ERGeHG0vTqzQ",
        "colab_type": "code",
        "colab": {
          "base_uri": "https://localhost:8080/",
          "height": 353
        },
        "outputId": "8bf598d5-2270-4342-d6b9-d4df354c3c00"
      },
      "source": [
        "model.state_dict()"
      ],
      "execution_count": 11,
      "outputs": [
        {
          "output_type": "execute_result",
          "data": {
            "text/plain": [
              "OrderedDict([('likelihood.noise_covar.raw_noise', tensor([0.])),\n",
              "             ('mean_module.constant', tensor([0.])),\n",
              "             ('covar_module.raw_outputscale', tensor(0.)),\n",
              "             ('covar_module.base_kernel.raw_lengthscale', tensor([[0.]])),\n",
              "             ('feature_extractor.0.weight', tensor([[0.4711],\n",
              "                      [0.6515]])),\n",
              "             ('feature_extractor.0.bias', tensor([-0.5939,  0.0134])),\n",
              "             ('feature_extractor.1.weight', tensor([1., 1.])),\n",
              "             ('feature_extractor.1.bias', tensor([0., 0.])),\n",
              "             ('feature_extractor.1.running_mean', tensor([0., 0.])),\n",
              "             ('feature_extractor.1.running_var', tensor([1., 1.])),\n",
              "             ('feature_extractor.1.num_batches_tracked', tensor(0)),\n",
              "             ('feature_extractor.3.weight', tensor([[ 0.7055,  0.3596],\n",
              "                      [-0.3409, -0.4008]])),\n",
              "             ('feature_extractor.3.bias', tensor([0.0920, 0.3870])),\n",
              "             ('feature_extractor.4.weight', tensor([1., 1.])),\n",
              "             ('feature_extractor.4.bias', tensor([0., 0.])),\n",
              "             ('feature_extractor.4.running_mean', tensor([0., 0.])),\n",
              "             ('feature_extractor.4.running_var', tensor([1., 1.])),\n",
              "             ('feature_extractor.4.num_batches_tracked', tensor(0))])"
            ]
          },
          "metadata": {
            "tags": []
          },
          "execution_count": 11
        }
      ]
    },
    {
      "cell_type": "code",
      "metadata": {
        "id": "pClO0bDGc30f",
        "colab_type": "code",
        "colab": {}
      },
      "source": [
        ""
      ],
      "execution_count": 0,
      "outputs": []
    },
    {
      "cell_type": "code",
      "metadata": {
        "id": "Fmok1ePxTqzY",
        "colab_type": "code",
        "colab": {
          "base_uri": "https://localhost:8080/",
          "height": 34
        },
        "outputId": "8f11a9dd-188e-48b5-e016-f81ca6ccf9ba"
      },
      "source": [
        "torch.save(model.state_dict(), 'my_gp_with_nn_model.pth')\n",
        "state_dict = torch.load('my_gp_with_nn_model.pth')\n",
        "model = GPWithNNFeatureExtractor(train_x, train_y, likelihood)\n",
        "model.load_state_dict(state_dict)"
      ],
      "execution_count": 12,
      "outputs": [
        {
          "output_type": "execute_result",
          "data": {
            "text/plain": [
              "<All keys matched successfully>"
            ]
          },
          "metadata": {
            "tags": []
          },
          "execution_count": 12
        }
      ]
    },
    {
      "cell_type": "code",
      "metadata": {
        "id": "lRMtbEDWTqze",
        "colab_type": "code",
        "colab": {
          "base_uri": "https://localhost:8080/",
          "height": 353
        },
        "outputId": "71510731-da66-4ca4-da84-f03ebdba183d"
      },
      "source": [
        "model.state_dict()"
      ],
      "execution_count": 13,
      "outputs": [
        {
          "output_type": "execute_result",
          "data": {
            "text/plain": [
              "OrderedDict([('likelihood.noise_covar.raw_noise', tensor([0.])),\n",
              "             ('mean_module.constant', tensor([0.])),\n",
              "             ('covar_module.raw_outputscale', tensor(0.)),\n",
              "             ('covar_module.base_kernel.raw_lengthscale', tensor([[0.]])),\n",
              "             ('feature_extractor.0.weight', tensor([[0.4711],\n",
              "                      [0.6515]])),\n",
              "             ('feature_extractor.0.bias', tensor([-0.5939,  0.0134])),\n",
              "             ('feature_extractor.1.weight', tensor([1., 1.])),\n",
              "             ('feature_extractor.1.bias', tensor([0., 0.])),\n",
              "             ('feature_extractor.1.running_mean', tensor([0., 0.])),\n",
              "             ('feature_extractor.1.running_var', tensor([1., 1.])),\n",
              "             ('feature_extractor.1.num_batches_tracked', tensor(0)),\n",
              "             ('feature_extractor.3.weight', tensor([[ 0.7055,  0.3596],\n",
              "                      [-0.3409, -0.4008]])),\n",
              "             ('feature_extractor.3.bias', tensor([0.0920, 0.3870])),\n",
              "             ('feature_extractor.4.weight', tensor([1., 1.])),\n",
              "             ('feature_extractor.4.bias', tensor([0., 0.])),\n",
              "             ('feature_extractor.4.running_mean', tensor([0., 0.])),\n",
              "             ('feature_extractor.4.running_var', tensor([1., 1.])),\n",
              "             ('feature_extractor.4.num_batches_tracked', tensor(0))])"
            ]
          },
          "metadata": {
            "tags": []
          },
          "execution_count": 13
        }
      ]
    },
    {
      "cell_type": "code",
      "metadata": {
        "id": "K6gd_UJJTqzj",
        "colab_type": "code",
        "colab": {}
      },
      "source": [
        ""
      ],
      "execution_count": 0,
      "outputs": []
    }
  ]
}